{
  "cells": [
    {
      "cell_type": "markdown",
      "metadata": {
        "id": "aaS-SMZ2py7H"
      },
      "source": [
        "# RFM Analysis Homework"
      ]
    },
    {
      "cell_type": "code",
      "execution_count": null,
      "metadata": {
        "id": "TCmaO73YjmxW"
      },
      "outputs": [],
      "source": [
        "from google.colab import drive\n",
        "drive.mount('/content/drive')"
      ]
    },
    {
      "cell_type": "markdown",
      "metadata": {
        "id": "h9S-ZDPQpw5D"
      },
      "source": [
        "The dataset under study contains credit card transactions from the State of Oklahoma. It includes information on purchases made through the purchase card programs administered by the state and higher educational institutions. The purchase card information is updated monthly after the end of every month. As such, July information is added in August, August in September, and so on and so forth.\n",
        "\n",
        "In a brief, here's the data description:\n",
        "- Dataset contains around 440k credit card transactions.\n",
        "- Each row in the dataset refers to a credit card transaction by a cardholder.\n",
        "- Each cardholder belongs to an agency.\n",
        "- Each transaction has the following information:\n",
        "    - cardholder name\n",
        "    - agency\n",
        "    - amount\n",
        "    - transaction date\n",
        "    - merchant name (vendor)\n",
        "    - merchant category\n",
        "    - description of the expense"
      ]
    },
    {
      "cell_type": "markdown",
      "metadata": {
        "id": "u5WxV1n1SFcD"
      },
      "source": [
        "## 1. Load and clean the dataset.\n",
        "Hints:  \n",
        "a. Transaction date and posted date should be in datetime format  \n",
        "b. Create a \"full name\" column  \n",
        "c. Do not include transactions made by agencies (customer name = agency)  \n",
        "d. Check for outliers (negative amount, refunds?)  \n",
        "## 2. Perform an RFM analysis and identify key customer segments (assume that the current date is 2014-07-01).   \n",
        "Hints:   \n",
        "a. In this case, we expect a one-to-one relationship between the customers and transactions (i.e. every swipe of the credit card is 1 transaction).  \n",
        "b. Use quartiles  \n",
        "## 3. Provide some key insights and recommendations to encourage customers to spend more with the credit cards."
      ]
    },
    {
      "cell_type": "code",
      "execution_count": null,
      "metadata": {
        "id": "nN4SaRO-jcRI"
      },
      "outputs": [],
      "source": [
        "import pandas as pd\n",
        "import matplotlib.pyplot as plt\n",
        "import seaborn as sns\n",
        "%matplotlib inline"
      ]
    },
    {
      "cell_type": "markdown",
      "metadata": {
        "id": "yubCaMdkq6JZ"
      },
      "source": [
        "# Load and clean the data"
      ]
    },
    {
      "cell_type": "code",
      "execution_count": null,
      "metadata": {
        "id": "zVr6aLG7jl5Y"
      },
      "outputs": [],
      "source": [
        "df = pd.read_csv('/content/drive/MyDrive/Refocus/Colab Notebooks/Home Assignments/5.8.5 HA For Submission/res_purchase_card_(pcard)_fiscal_year_2014_3pcd-aiuu.csv',\n",
        "                   parse_dates=['Transaction Date', 'Posted Date'])"
      ]
    },
    {
      "cell_type": "code",
      "source": [
        "df.info()"
      ],
      "metadata": {
        "id": "R5i4QbQsMyRF"
      },
      "execution_count": null,
      "outputs": []
    },
    {
      "cell_type": "code",
      "source": [
        "df.head()"
      ],
      "metadata": {
        "id": "9P5lAqBHM61_"
      },
      "execution_count": null,
      "outputs": []
    },
    {
      "cell_type": "markdown",
      "metadata": {
        "id": "ZrvZrNteEcZ_"
      },
      "source": [
        "## 1. Load and clean the dataset.\n",
        "  \n",
        "a. Create a \"full name\" column  \n",
        "b. Do not include transactions made by agencies (customer name = agency)  \n",
        "c. Check for outliers (negative amount, refunds?)"
      ]
    },
    {
      "cell_type": "code",
      "execution_count": null,
      "metadata": {
        "id": "xpJtZsq4UrHz"
      },
      "outputs": [],
      "source": [
        "# full name column\n",
        "df['full_name'] = df['Cardholder Last Name'] + ', ' + df['Cardholder First Initial']"
      ]
    },
    {
      "cell_type": "code",
      "execution_count": null,
      "metadata": {
        "id": "gZCB0HBbERrB"
      },
      "outputs": [],
      "source": [
        "# remove agency (Do not include transactions made by agencies (customer name = agency))\n",
        "df = df[df['Agency Number'].astype(str)!=df['Cardholder Last Name']]"
      ]
    },
    {
      "cell_type": "code",
      "source": [
        "df.info()"
      ],
      "metadata": {
        "id": "_GI3czwpRLNi"
      },
      "execution_count": null,
      "outputs": []
    },
    {
      "cell_type": "code",
      "execution_count": null,
      "metadata": {
        "id": "zBzRbKYsD1yp"
      },
      "outputs": [],
      "source": [
        "# remove negative amounts\n",
        "df = df[df['Amount']>0]"
      ]
    },
    {
      "cell_type": "markdown",
      "metadata": {
        "id": "H6PwR3aVVe2v"
      },
      "source": [
        "# RFM Analysis"
      ]
    },
    {
      "cell_type": "code",
      "execution_count": null,
      "metadata": {
        "id": "ONiVdUit7CDM"
      },
      "outputs": [],
      "source": [
        "import datetime\n",
        "\n",
        "current_date = datetime.datetime(2014, 7, 1)\n",
        "current_date"
      ]
    },
    {
      "cell_type": "markdown",
      "metadata": {
        "id": "EZSoFehNccwl"
      },
      "source": [
        "### Recency"
      ]
    },
    {
      "cell_type": "code",
      "execution_count": null,
      "metadata": {
        "id": "Pk4nLy1q9YJ_"
      },
      "outputs": [],
      "source": [
        "# get max transaction date per customer\n",
        "df_latest_invoice = df.groupby('full_name')['Transaction Date'].max()\n",
        "\n",
        "df_latest_invoice"
      ]
    },
    {
      "cell_type": "code",
      "execution_count": null,
      "metadata": {
        "id": "hKbfwzsH_UGu"
      },
      "outputs": [],
      "source": [
        "# get number of days between latest invoice date and current date\n",
        "# .dt.days means that we only get the actual days (not decimal)\n",
        "df_recency = (current_date - df_latest_invoice).dt.days\n",
        "\n",
        "df_recency"
      ]
    },
    {
      "cell_type": "markdown",
      "metadata": {
        "id": "7kyL1NcSfkZb"
      },
      "source": [
        "### Frequency"
      ]
    },
    {
      "cell_type": "code",
      "execution_count": null,
      "metadata": {
        "id": "mkHPmxMCJqrq"
      },
      "outputs": [],
      "source": [
        "# get frequency (count)\n",
        "df_frequency = df.groupby('full_name')['full_name'].count()\n",
        "\n",
        "df_frequency"
      ]
    },
    {
      "cell_type": "markdown",
      "metadata": {
        "id": "kYwf1j_if45l"
      },
      "source": [
        "### Monetary"
      ]
    },
    {
      "cell_type": "code",
      "execution_count": null,
      "metadata": {
        "id": "7VB61EJk-Epy"
      },
      "outputs": [],
      "source": [
        "# get the total amount (sum of all amounts)\n",
        "df_monetary = df.groupby('full_name')['Amount'].sum()\n",
        "df_monetary"
      ]
    },
    {
      "cell_type": "markdown",
      "metadata": {
        "id": "xcZdztMdgcne"
      },
      "source": [
        "## RFM Scores"
      ]
    },
    {
      "cell_type": "markdown",
      "metadata": {
        "id": "DQi2ST1R_urm"
      },
      "source": [
        "We now merge these tables into a single dataframe. We put each series together in a dictionary and use `pd.DataFrame`"
      ]
    },
    {
      "cell_type": "code",
      "execution_count": null,
      "metadata": {
        "id": "POXLvGls-zVg"
      },
      "outputs": [],
      "source": [
        "df_rfm = pd.DataFrame({'recency':df_recency, 'frequency':df_frequency, 'monetary':df_monetary})\n",
        "df_rfm"
      ]
    },
    {
      "cell_type": "markdown",
      "metadata": {
        "id": "CDazhdReEcaI"
      },
      "source": [
        "#### Calculate RFM scores. Use quantiles (0.25, 0.50, 0.75) to map the scores from 1 to 4"
      ]
    },
    {
      "cell_type": "code",
      "execution_count": null,
      "metadata": {
        "id": "p_RwU_3YEcaJ"
      },
      "outputs": [],
      "source": [
        "quantiles = df_rfm.quantile(q=[0.25, 0.5, 0.75])\n",
        "quantiles"
      ]
    },
    {
      "cell_type": "markdown",
      "source": [
        "Using the quantiles function, we can get our thresholds for segmentation.\n",
        "\n",
        "1. For recency score (lower is better):\n",
        "- Score = 1; quantile between 0-0.25\n",
        "- Score = 2; quantile between 0.25-0.5\n",
        "- Score = 3; quantile between 0.5-0.75\n",
        "- Score = 4; quantile between 0.75 - 1\n",
        "\n",
        "<br>  \n",
        "2. For frequency and monetary score (higher is better):\n",
        "- Score = 1; quantile between 0.75 - 1\n",
        "- Score = 2; quantile between 0.5-0.75\n",
        "- Score = 3; quantile between 0.25-0.5\n",
        "- Score = 4; quantile between 0-0.25\n",
        "\n",
        "<br>  "
      ],
      "metadata": {
        "id": "_Y-Lshn6HbeC"
      }
    },
    {
      "cell_type": "markdown",
      "source": [
        "#### Recency Score"
      ],
      "metadata": {
        "id": "ZcPJW09SHjfq"
      }
    },
    {
      "cell_type": "code",
      "source": [
        "# create a dictionary with the recency quantiles\n",
        "recency_dict = quantiles['recency'].to_dict()\n",
        "recency_dict"
      ],
      "metadata": {
        "id": "6tlxixSMHbOd"
      },
      "execution_count": null,
      "outputs": []
    },
    {
      "cell_type": "code",
      "source": [
        "# create a function to calculate recency score\n",
        "def recency_score(recency, recency_dict):\n",
        "    if recency <= recency_dict[0.25]:\n",
        "        # recency_score = 1 if recency is between 0-0.25 quantile\n",
        "        return '1'\n",
        "    elif recency <= recency_dict[0.5]:\n",
        "        # recency_score = 2 if recency is between 0.25-0.5 quantile\n",
        "        return '2'\n",
        "    elif recency <= recency_dict[.75]:\n",
        "        # recency_score = 3 if recency is between 0.5-0.75 quantile\n",
        "        return '3'\n",
        "    else:\n",
        "        # recency_score = 4 if recency is between 0.75-1 quantile\n",
        "        return '4'\n",
        "\n",
        "df_rfm['recency_score'] = df_rfm['recency'].apply(recency_score, args=(recency_dict,))\n",
        "df_rfm.head()"
      ],
      "metadata": {
        "id": "MuIjqr1-H7Wr"
      },
      "execution_count": null,
      "outputs": []
    },
    {
      "cell_type": "markdown",
      "source": [
        "### Frequency Score"
      ],
      "metadata": {
        "id": "Mn7vXbbAHmxw"
      }
    },
    {
      "cell_type": "code",
      "source": [
        "# create a dictionary with the frequency quantiles\n",
        "frequency_dict = quantiles['frequency'].to_dict()\n",
        "frequency_dict"
      ],
      "metadata": {
        "id": "ezcLpGn1HpQq"
      },
      "execution_count": null,
      "outputs": []
    },
    {
      "cell_type": "code",
      "source": [
        "# create a function to calculate frequency score\n",
        "def frequency_score(frequency, frequency_dict):\n",
        "    if frequency <= frequency_dict[0.25]:\n",
        "        # frequency_score = 4 if frequency is between 0-0.25 quantile\n",
        "        return '4'\n",
        "    elif frequency <= frequency_dict[0.5]:\n",
        "        # frequency_score = 3 if frequency is between 0.25-0.5 quantile\n",
        "        return '3'\n",
        "    elif frequency <= frequency_dict[.75]:\n",
        "        # frequency_score = 2 if frequency is between 0.5-0.75 quantile\n",
        "        return '2'\n",
        "    else:\n",
        "        # frequency_score = 1 if frequency is between 0.75-1 quantile\n",
        "        return '1'\n",
        "\n",
        "df_rfm['frequency_score'] = df_rfm['frequency'].apply(frequency_score, args=(frequency_dict,))\n",
        "df_rfm.head()"
      ],
      "metadata": {
        "id": "iVLyaz2-IJCV"
      },
      "execution_count": null,
      "outputs": []
    },
    {
      "cell_type": "markdown",
      "source": [
        "### Monetary Score"
      ],
      "metadata": {
        "id": "xmF-hBPLITF3"
      }
    },
    {
      "cell_type": "code",
      "source": [
        "# create a dictionary with the monetary quantiles\n",
        "monetary_dict = quantiles['monetary'].to_dict()\n",
        "monetary_dict"
      ],
      "metadata": {
        "id": "IvfD3uZ4ITZB"
      },
      "execution_count": null,
      "outputs": []
    },
    {
      "cell_type": "code",
      "source": [
        "# create a function to calculate monetary score\n",
        "def monetary_score(monetary, monetary_dict):\n",
        "    if monetary <= monetary_dict[0.25]:\n",
        "        # monetary_score = 4 if monetary is between 0-0.25 quantile\n",
        "        return '4'\n",
        "    elif monetary <= monetary_dict[0.5]:\n",
        "        # monetary_score = 3 if monetary is between 0.25-0.5 quantile\n",
        "        return '3'\n",
        "    elif monetary <= monetary_dict[.75]:\n",
        "        # monetary_score = 2 if monetary is between 0.5-0.75 quantile\n",
        "        return '2'\n",
        "    else:\n",
        "        # monetary_score = 1 if monetary is between 0.75-1 quantile\n",
        "        return '1'\n",
        "\n",
        "df_rfm['monetary_score'] = df_rfm['monetary'].apply(monetary_score, args=(monetary_dict,))\n",
        "df_rfm.head()"
      ],
      "metadata": {
        "id": "0F2WGW11IUFo"
      },
      "execution_count": null,
      "outputs": []
    },
    {
      "cell_type": "markdown",
      "source": [
        "## Concatenate the RFM Scores"
      ],
      "metadata": {
        "id": "5b_VwaQsIhwB"
      }
    },
    {
      "cell_type": "code",
      "source": [
        "# Concatenate the three created columns earlier\n",
        "df_rfm['rfm_score'] = df_rfm['recency_score'] + df_rfm['frequency_score'] + df_rfm['monetary_score']\n",
        "df_rfm.head(10)"
      ],
      "metadata": {
        "id": "JraNf90eIkNW"
      },
      "execution_count": null,
      "outputs": []
    },
    {
      "cell_type": "markdown",
      "metadata": {
        "id": "VjmxOPCBEcaJ"
      },
      "source": [
        "#### Provide insights, recommendations, analysis. Use visualizations if necessary."
      ]
    },
    {
      "cell_type": "code",
      "execution_count": null,
      "metadata": {
        "id": "_G6oUTbcEcaJ"
      },
      "outputs": [],
      "source": [
        "print(\"Best Cardholder\")\n",
        "len(df_rfm[df_rfm['rfm_score']=='111'])"
      ]
    },
    {
      "cell_type": "code",
      "source": [
        "# store the segment counts in a dictionary\n",
        "segment_counts = {'best_cardholder (111)': len(df_rfm[df_rfm['rfm_score']=='111']),\n",
        "                  'loyal_cardholder (X1X)': len(df_rfm[df_rfm['frequency_score']=='1']),\n",
        "                  'big_spenders (XX1)': len(df_rfm[df_rfm['monetary_score']=='1']),\n",
        "                  'almost_inactive (311)': len(df_rfm[df_rfm['rfm_score']=='311']),\n",
        "                  'inactive_good_cardholders (411)': len(df_rfm[df_rfm['rfm_score']=='411']),\n",
        "                  'inactive_cheap_cardholders (444)': len(df_rfm[df_rfm['rfm_score']=='444'])}"
      ],
      "metadata": {
        "id": "6cavvtEaXx9c"
      },
      "execution_count": null,
      "outputs": []
    },
    {
      "cell_type": "code",
      "source": [
        "segment_counts"
      ],
      "metadata": {
        "id": "fuAlT3o1ZOGq"
      },
      "execution_count": null,
      "outputs": []
    },
    {
      "cell_type": "code",
      "source": [
        "# create a dataframe\n",
        "df_counts = pd.DataFrame(segment_counts.values(), index=segment_counts.keys(), columns=['counts'])\n",
        "df_counts"
      ],
      "metadata": {
        "id": "-wOcYVjbZMN4"
      },
      "execution_count": null,
      "outputs": []
    },
    {
      "cell_type": "code",
      "source": [
        "#plotting the counts\n",
        "fig, ax = plt.subplots(figsize=(12,7))\n",
        "df_counts.plot(kind='barh', ax=ax, legend=False)\n",
        "ax.set_title('RFM Card Holder Segments')\n",
        "ax.set_ylabel('# Card Holder per Segment')"
      ],
      "metadata": {
        "id": "3aDPmvsRZWo5"
      },
      "execution_count": null,
      "outputs": []
    },
    {
      "cell_type": "code",
      "source": [
        "# get percentages\n",
        "cardholder_count = df['full_name'].nunique()\n",
        "\n",
        "df_counts['pct'] = (df_counts['counts']/cardholder_count) * 100\n",
        "df_counts['pct'] = df_counts['pct'].round().astype(int)\n",
        "df_counts"
      ],
      "metadata": {
        "id": "PDRM0qv5Z90s"
      },
      "execution_count": null,
      "outputs": []
    },
    {
      "cell_type": "markdown",
      "source": [
        "# Visualizations"
      ],
      "metadata": {
        "id": "mRb_YhngcIs1"
      }
    },
    {
      "cell_type": "code",
      "source": [
        "fig, ax = plt.subplots(figsize=(16,9))\n",
        "df_counts['pct'].plot(kind='barh', ax=ax, legend=False)\n",
        "ax.set_title('RFM Card Holder Segments')\n",
        "ax.set_ylabel('% Card Holder per Segment')\n",
        "\n",
        "# Labels for the graph with % sign\n",
        "for index, value in enumerate(df_counts['pct']):\n",
        "    ax.text(value, index, f\"{value}%\", ha='left', va='center')\n"
      ],
      "metadata": {
        "id": "1NGLEu1Lay7I"
      },
      "execution_count": null,
      "outputs": []
    },
    {
      "cell_type": "markdown",
      "source": [
        "### Top 10 Card Holders"
      ],
      "metadata": {
        "id": "KqJdDYqxg379"
      }
    },
    {
      "cell_type": "code",
      "source": [
        "df_rfm[df_rfm['rfm_score']=='111'].sort_values('monetary', ascending=False).head(10)"
      ],
      "metadata": {
        "id": "7ivNIxDza8cz"
      },
      "execution_count": null,
      "outputs": []
    },
    {
      "cell_type": "markdown",
      "source": [
        "# Conclusion and Recommendation"
      ],
      "metadata": {
        "id": "n_Ugt337cSp9"
      }
    },
    {
      "cell_type": "markdown",
      "source": [
        "In this analysis, we used a dataset containing credit card transactions from the State of Oklahoma. \"Inactive\" cardholders are individuals who possess a credit card but do not frequently use it for transactions. They may have the card available for occasional use but do not utilize it regularly.\n",
        "\n",
        "\n",
        "Based on the bar chart, we observed the percentages of cardholder segments. Our best cardholders constitute 11% of our segmentation base, while 13% are inactive.\n",
        "\n",
        "\n",
        "As recommendations to encourage increased credit card spending for each segment:\n",
        "\n",
        "\n",
        "1.\tBest Cardholders: Offer premium services, exclusive rewards, and personalized offers to enhance their experience.\n",
        "2.\tLoyal Cardholders: Provide loyalty rewards, points, and referral programs to retain their loyalty.\n",
        "3.\tBig Spenders: Target them with promotions on high-value products or services to further incentivize spending.\n",
        "4.\tAlmost Inactive: Remind them about the benefits and perks associated with their credit cards. Utilize limited-time promotions to encourage re-engagement.\n",
        "5.\tInactive Good Cardholders: Offer exclusive incentives, such as cashback or bonus rewards, to entice them to use their credit cards more frequently.\n",
        "6.\tInactive Cheap Cardholders: Implement cost-effective offers or benefits to motivate increased spending.\n",
        "By using these customized approaches, our goal is to strengthen the relationship with cardholders and encourage them to use their credit cards more frequently in all segments.\n"
      ],
      "metadata": {
        "id": "LRPCDxAYcWf9"
      }
    }
  ],
  "metadata": {
    "colab": {
      "provenance": [],
      "toc_visible": true
    },
    "kernelspec": {
      "display_name": "Python 3 (ipykernel)",
      "language": "python",
      "name": "python3"
    },
    "language_info": {
      "codemirror_mode": {
        "name": "ipython",
        "version": 3
      },
      "file_extension": ".py",
      "mimetype": "text/x-python",
      "name": "python",
      "nbconvert_exporter": "python",
      "pygments_lexer": "ipython3",
      "version": "3.8.10"
    }
  },
  "nbformat": 4,
  "nbformat_minor": 0
}