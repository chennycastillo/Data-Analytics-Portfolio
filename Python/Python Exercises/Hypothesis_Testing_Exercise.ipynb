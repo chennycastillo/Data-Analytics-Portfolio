{
  "cells": [
    {
      "cell_type": "code",
      "execution_count": null,
      "metadata": {
        "id": "caXlIQy_OVfg",
        "colab": {
          "base_uri": "https://localhost:8080/"
        },
        "outputId": "056f1167-9307-444c-bc3b-b64e2dd7265c"
      },
      "outputs": [
        {
          "output_type": "stream",
          "name": "stdout",
          "text": [
            "Mounted at /content/drive\n"
          ]
        }
      ],
      "source": [
        "from google.colab import drive\n",
        "drive.mount('/content/drive')"
      ]
    },
    {
      "cell_type": "code",
      "execution_count": null,
      "metadata": {
        "id": "mkJ6Ae39OZhU"
      },
      "outputs": [],
      "source": [
        "import pandas as pd\n",
        "from scipy.stats import ttest_ind, chisquare\n",
        "from statsmodels.stats.proportion import proportions_ztest"
      ]
    },
    {
      "cell_type": "markdown",
      "metadata": {
        "id": "gd1NRgLEOaxt"
      },
      "source": [
        "## US Health Insurance Dataset [(source)](https://www.kaggle.com/datasets/teertha/ushealthinsurancedataset)\n",
        "\n",
        "This dataset contains 1338 rows of insured data, where the Insurance charges are given against the following attributes of the insured: Age, Sex, BMI, Number of Children, Smoker and Region. There are no missing or undefined values in the dataset.\n",
        "\n",
        "For the following exercises, assume that the data was taken from a random sample of users."
      ]
    },
    {
      "cell_type": "code",
      "execution_count": null,
      "metadata": {
        "id": "95bJHuBFl2BM",
        "colab": {
          "base_uri": "https://localhost:8080/",
          "height": 206
        },
        "outputId": "60730a29-399b-4ac2-b1f6-398fb7a060df"
      },
      "outputs": [
        {
          "output_type": "execute_result",
          "data": {
            "text/plain": [
              "   age     sex     bmi  children smoker     region      charges\n",
              "0   19  female  27.900         0    yes  southwest  16884.92400\n",
              "1   18    male  33.770         1     no  southeast   1725.55230\n",
              "2   28    male  33.000         3     no  southeast   4449.46200\n",
              "3   33    male  22.705         0     no  northwest  21984.47061\n",
              "4   32    male  28.880         0     no  northwest   3866.85520"
            ],
            "text/html": [
              "\n",
              "\n",
              "  <div id=\"df-23ea0043-192a-441f-9d64-08402ae6f36c\">\n",
              "    <div class=\"colab-df-container\">\n",
              "      <div>\n",
              "<style scoped>\n",
              "    .dataframe tbody tr th:only-of-type {\n",
              "        vertical-align: middle;\n",
              "    }\n",
              "\n",
              "    .dataframe tbody tr th {\n",
              "        vertical-align: top;\n",
              "    }\n",
              "\n",
              "    .dataframe thead th {\n",
              "        text-align: right;\n",
              "    }\n",
              "</style>\n",
              "<table border=\"1\" class=\"dataframe\">\n",
              "  <thead>\n",
              "    <tr style=\"text-align: right;\">\n",
              "      <th></th>\n",
              "      <th>age</th>\n",
              "      <th>sex</th>\n",
              "      <th>bmi</th>\n",
              "      <th>children</th>\n",
              "      <th>smoker</th>\n",
              "      <th>region</th>\n",
              "      <th>charges</th>\n",
              "    </tr>\n",
              "  </thead>\n",
              "  <tbody>\n",
              "    <tr>\n",
              "      <th>0</th>\n",
              "      <td>19</td>\n",
              "      <td>female</td>\n",
              "      <td>27.900</td>\n",
              "      <td>0</td>\n",
              "      <td>yes</td>\n",
              "      <td>southwest</td>\n",
              "      <td>16884.92400</td>\n",
              "    </tr>\n",
              "    <tr>\n",
              "      <th>1</th>\n",
              "      <td>18</td>\n",
              "      <td>male</td>\n",
              "      <td>33.770</td>\n",
              "      <td>1</td>\n",
              "      <td>no</td>\n",
              "      <td>southeast</td>\n",
              "      <td>1725.55230</td>\n",
              "    </tr>\n",
              "    <tr>\n",
              "      <th>2</th>\n",
              "      <td>28</td>\n",
              "      <td>male</td>\n",
              "      <td>33.000</td>\n",
              "      <td>3</td>\n",
              "      <td>no</td>\n",
              "      <td>southeast</td>\n",
              "      <td>4449.46200</td>\n",
              "    </tr>\n",
              "    <tr>\n",
              "      <th>3</th>\n",
              "      <td>33</td>\n",
              "      <td>male</td>\n",
              "      <td>22.705</td>\n",
              "      <td>0</td>\n",
              "      <td>no</td>\n",
              "      <td>northwest</td>\n",
              "      <td>21984.47061</td>\n",
              "    </tr>\n",
              "    <tr>\n",
              "      <th>4</th>\n",
              "      <td>32</td>\n",
              "      <td>male</td>\n",
              "      <td>28.880</td>\n",
              "      <td>0</td>\n",
              "      <td>no</td>\n",
              "      <td>northwest</td>\n",
              "      <td>3866.85520</td>\n",
              "    </tr>\n",
              "  </tbody>\n",
              "</table>\n",
              "</div>\n",
              "      <button class=\"colab-df-convert\" onclick=\"convertToInteractive('df-23ea0043-192a-441f-9d64-08402ae6f36c')\"\n",
              "              title=\"Convert this dataframe to an interactive table.\"\n",
              "              style=\"display:none;\">\n",
              "\n",
              "  <svg xmlns=\"http://www.w3.org/2000/svg\" height=\"24px\"viewBox=\"0 0 24 24\"\n",
              "       width=\"24px\">\n",
              "    <path d=\"M0 0h24v24H0V0z\" fill=\"none\"/>\n",
              "    <path d=\"M18.56 5.44l.94 2.06.94-2.06 2.06-.94-2.06-.94-.94-2.06-.94 2.06-2.06.94zm-11 1L8.5 8.5l.94-2.06 2.06-.94-2.06-.94L8.5 2.5l-.94 2.06-2.06.94zm10 10l.94 2.06.94-2.06 2.06-.94-2.06-.94-.94-2.06-.94 2.06-2.06.94z\"/><path d=\"M17.41 7.96l-1.37-1.37c-.4-.4-.92-.59-1.43-.59-.52 0-1.04.2-1.43.59L10.3 9.45l-7.72 7.72c-.78.78-.78 2.05 0 2.83L4 21.41c.39.39.9.59 1.41.59.51 0 1.02-.2 1.41-.59l7.78-7.78 2.81-2.81c.8-.78.8-2.07 0-2.86zM5.41 20L4 18.59l7.72-7.72 1.47 1.35L5.41 20z\"/>\n",
              "  </svg>\n",
              "      </button>\n",
              "\n",
              "\n",
              "\n",
              "    <div id=\"df-ba2a32cf-8ea0-452b-84a4-3f726ddf0325\">\n",
              "      <button class=\"colab-df-quickchart\" onclick=\"quickchart('df-ba2a32cf-8ea0-452b-84a4-3f726ddf0325')\"\n",
              "              title=\"Suggest charts.\"\n",
              "              style=\"display:none;\">\n",
              "\n",
              "<svg xmlns=\"http://www.w3.org/2000/svg\" height=\"24px\"viewBox=\"0 0 24 24\"\n",
              "     width=\"24px\">\n",
              "    <g>\n",
              "        <path d=\"M19 3H5c-1.1 0-2 .9-2 2v14c0 1.1.9 2 2 2h14c1.1 0 2-.9 2-2V5c0-1.1-.9-2-2-2zM9 17H7v-7h2v7zm4 0h-2V7h2v10zm4 0h-2v-4h2v4z\"/>\n",
              "    </g>\n",
              "</svg>\n",
              "      </button>\n",
              "    </div>\n",
              "\n",
              "<style>\n",
              "  .colab-df-quickchart {\n",
              "    background-color: #E8F0FE;\n",
              "    border: none;\n",
              "    border-radius: 50%;\n",
              "    cursor: pointer;\n",
              "    display: none;\n",
              "    fill: #1967D2;\n",
              "    height: 32px;\n",
              "    padding: 0 0 0 0;\n",
              "    width: 32px;\n",
              "  }\n",
              "\n",
              "  .colab-df-quickchart:hover {\n",
              "    background-color: #E2EBFA;\n",
              "    box-shadow: 0px 1px 2px rgba(60, 64, 67, 0.3), 0px 1px 3px 1px rgba(60, 64, 67, 0.15);\n",
              "    fill: #174EA6;\n",
              "  }\n",
              "\n",
              "  [theme=dark] .colab-df-quickchart {\n",
              "    background-color: #3B4455;\n",
              "    fill: #D2E3FC;\n",
              "  }\n",
              "\n",
              "  [theme=dark] .colab-df-quickchart:hover {\n",
              "    background-color: #434B5C;\n",
              "    box-shadow: 0px 1px 3px 1px rgba(0, 0, 0, 0.15);\n",
              "    filter: drop-shadow(0px 1px 2px rgba(0, 0, 0, 0.3));\n",
              "    fill: #FFFFFF;\n",
              "  }\n",
              "</style>\n",
              "\n",
              "    <script>\n",
              "      async function quickchart(key) {\n",
              "        const containerElement = document.querySelector('#' + key);\n",
              "        const charts = await google.colab.kernel.invokeFunction(\n",
              "            'suggestCharts', [key], {});\n",
              "      }\n",
              "    </script>\n",
              "\n",
              "      <script>\n",
              "\n",
              "function displayQuickchartButton(domScope) {\n",
              "  let quickchartButtonEl =\n",
              "    domScope.querySelector('#df-ba2a32cf-8ea0-452b-84a4-3f726ddf0325 button.colab-df-quickchart');\n",
              "  quickchartButtonEl.style.display =\n",
              "    google.colab.kernel.accessAllowed ? 'block' : 'none';\n",
              "}\n",
              "\n",
              "        displayQuickchartButton(document);\n",
              "      </script>\n",
              "      <style>\n",
              "    .colab-df-container {\n",
              "      display:flex;\n",
              "      flex-wrap:wrap;\n",
              "      gap: 12px;\n",
              "    }\n",
              "\n",
              "    .colab-df-convert {\n",
              "      background-color: #E8F0FE;\n",
              "      border: none;\n",
              "      border-radius: 50%;\n",
              "      cursor: pointer;\n",
              "      display: none;\n",
              "      fill: #1967D2;\n",
              "      height: 32px;\n",
              "      padding: 0 0 0 0;\n",
              "      width: 32px;\n",
              "    }\n",
              "\n",
              "    .colab-df-convert:hover {\n",
              "      background-color: #E2EBFA;\n",
              "      box-shadow: 0px 1px 2px rgba(60, 64, 67, 0.3), 0px 1px 3px 1px rgba(60, 64, 67, 0.15);\n",
              "      fill: #174EA6;\n",
              "    }\n",
              "\n",
              "    [theme=dark] .colab-df-convert {\n",
              "      background-color: #3B4455;\n",
              "      fill: #D2E3FC;\n",
              "    }\n",
              "\n",
              "    [theme=dark] .colab-df-convert:hover {\n",
              "      background-color: #434B5C;\n",
              "      box-shadow: 0px 1px 3px 1px rgba(0, 0, 0, 0.15);\n",
              "      filter: drop-shadow(0px 1px 2px rgba(0, 0, 0, 0.3));\n",
              "      fill: #FFFFFF;\n",
              "    }\n",
              "  </style>\n",
              "\n",
              "      <script>\n",
              "        const buttonEl =\n",
              "          document.querySelector('#df-23ea0043-192a-441f-9d64-08402ae6f36c button.colab-df-convert');\n",
              "        buttonEl.style.display =\n",
              "          google.colab.kernel.accessAllowed ? 'block' : 'none';\n",
              "\n",
              "        async function convertToInteractive(key) {\n",
              "          const element = document.querySelector('#df-23ea0043-192a-441f-9d64-08402ae6f36c');\n",
              "          const dataTable =\n",
              "            await google.colab.kernel.invokeFunction('convertToInteractive',\n",
              "                                                     [key], {});\n",
              "          if (!dataTable) return;\n",
              "\n",
              "          const docLinkHtml = 'Like what you see? Visit the ' +\n",
              "            '<a target=\"_blank\" href=https://colab.research.google.com/notebooks/data_table.ipynb>data table notebook</a>'\n",
              "            + ' to learn more about interactive tables.';\n",
              "          element.innerHTML = '';\n",
              "          dataTable['output_type'] = 'display_data';\n",
              "          await google.colab.output.renderOutput(dataTable, element);\n",
              "          const docLink = document.createElement('div');\n",
              "          docLink.innerHTML = docLinkHtml;\n",
              "          element.appendChild(docLink);\n",
              "        }\n",
              "      </script>\n",
              "    </div>\n",
              "  </div>\n"
            ]
          },
          "metadata": {},
          "execution_count": 3
        }
      ],
      "source": [
        "df = pd.read_csv('/content/drive/MyDrive/Refocus/Colab Notebooks/Home Assignments/5.9.4 HA For Submission/insurance.csv')\n",
        "df.head()"
      ]
    },
    {
      "cell_type": "markdown",
      "metadata": {
        "id": "0MUe1U6mDH9V"
      },
      "source": [
        "## Problem 1: Using the US Health Insurance Dataset, Test if the insurance charges are different for males vs. females.\n",
        "\n",
        "1. Define the Null and Alternative Hypothesis\n",
        "1. Implement the applicable hypothesis test and calculate the p-values\n",
        "1. What is the conclusion at an alpha of 0.05?\n"
      ]
    },
    {
      "cell_type": "code",
      "source": [
        "df.groupby('sex').charges.describe()"
      ],
      "metadata": {
        "colab": {
          "base_uri": "https://localhost:8080/",
          "height": 143
        },
        "id": "AMyWSkW70WP7",
        "outputId": "484252ae-6c98-4a62-af9c-5d2f64d7cb15"
      },
      "execution_count": null,
      "outputs": [
        {
          "output_type": "execute_result",
          "data": {
            "text/plain": [
              "        count          mean           std        min        25%         50%  \\\n",
              "sex                                                                           \n",
              "female  662.0  12569.578844  11128.703801  1607.5101  4885.1587  9412.96250   \n",
              "male    676.0  13956.751178  12971.025915  1121.8739  4619.1340  9369.61575   \n",
              "\n",
              "                 75%          max  \n",
              "sex                                \n",
              "female  14454.691825  63770.42801  \n",
              "male    18989.590250  62592.87309  "
            ],
            "text/html": [
              "\n",
              "\n",
              "  <div id=\"df-a8e74ac4-9932-4be2-b74b-b8a91f0d88d3\">\n",
              "    <div class=\"colab-df-container\">\n",
              "      <div>\n",
              "<style scoped>\n",
              "    .dataframe tbody tr th:only-of-type {\n",
              "        vertical-align: middle;\n",
              "    }\n",
              "\n",
              "    .dataframe tbody tr th {\n",
              "        vertical-align: top;\n",
              "    }\n",
              "\n",
              "    .dataframe thead th {\n",
              "        text-align: right;\n",
              "    }\n",
              "</style>\n",
              "<table border=\"1\" class=\"dataframe\">\n",
              "  <thead>\n",
              "    <tr style=\"text-align: right;\">\n",
              "      <th></th>\n",
              "      <th>count</th>\n",
              "      <th>mean</th>\n",
              "      <th>std</th>\n",
              "      <th>min</th>\n",
              "      <th>25%</th>\n",
              "      <th>50%</th>\n",
              "      <th>75%</th>\n",
              "      <th>max</th>\n",
              "    </tr>\n",
              "    <tr>\n",
              "      <th>sex</th>\n",
              "      <th></th>\n",
              "      <th></th>\n",
              "      <th></th>\n",
              "      <th></th>\n",
              "      <th></th>\n",
              "      <th></th>\n",
              "      <th></th>\n",
              "      <th></th>\n",
              "    </tr>\n",
              "  </thead>\n",
              "  <tbody>\n",
              "    <tr>\n",
              "      <th>female</th>\n",
              "      <td>662.0</td>\n",
              "      <td>12569.578844</td>\n",
              "      <td>11128.703801</td>\n",
              "      <td>1607.5101</td>\n",
              "      <td>4885.1587</td>\n",
              "      <td>9412.96250</td>\n",
              "      <td>14454.691825</td>\n",
              "      <td>63770.42801</td>\n",
              "    </tr>\n",
              "    <tr>\n",
              "      <th>male</th>\n",
              "      <td>676.0</td>\n",
              "      <td>13956.751178</td>\n",
              "      <td>12971.025915</td>\n",
              "      <td>1121.8739</td>\n",
              "      <td>4619.1340</td>\n",
              "      <td>9369.61575</td>\n",
              "      <td>18989.590250</td>\n",
              "      <td>62592.87309</td>\n",
              "    </tr>\n",
              "  </tbody>\n",
              "</table>\n",
              "</div>\n",
              "      <button class=\"colab-df-convert\" onclick=\"convertToInteractive('df-a8e74ac4-9932-4be2-b74b-b8a91f0d88d3')\"\n",
              "              title=\"Convert this dataframe to an interactive table.\"\n",
              "              style=\"display:none;\">\n",
              "\n",
              "  <svg xmlns=\"http://www.w3.org/2000/svg\" height=\"24px\"viewBox=\"0 0 24 24\"\n",
              "       width=\"24px\">\n",
              "    <path d=\"M0 0h24v24H0V0z\" fill=\"none\"/>\n",
              "    <path d=\"M18.56 5.44l.94 2.06.94-2.06 2.06-.94-2.06-.94-.94-2.06-.94 2.06-2.06.94zm-11 1L8.5 8.5l.94-2.06 2.06-.94-2.06-.94L8.5 2.5l-.94 2.06-2.06.94zm10 10l.94 2.06.94-2.06 2.06-.94-2.06-.94-.94-2.06-.94 2.06-2.06.94z\"/><path d=\"M17.41 7.96l-1.37-1.37c-.4-.4-.92-.59-1.43-.59-.52 0-1.04.2-1.43.59L10.3 9.45l-7.72 7.72c-.78.78-.78 2.05 0 2.83L4 21.41c.39.39.9.59 1.41.59.51 0 1.02-.2 1.41-.59l7.78-7.78 2.81-2.81c.8-.78.8-2.07 0-2.86zM5.41 20L4 18.59l7.72-7.72 1.47 1.35L5.41 20z\"/>\n",
              "  </svg>\n",
              "      </button>\n",
              "\n",
              "\n",
              "\n",
              "    <div id=\"df-0c94656e-6412-43c1-a223-29f33c2a48f8\">\n",
              "      <button class=\"colab-df-quickchart\" onclick=\"quickchart('df-0c94656e-6412-43c1-a223-29f33c2a48f8')\"\n",
              "              title=\"Suggest charts.\"\n",
              "              style=\"display:none;\">\n",
              "\n",
              "<svg xmlns=\"http://www.w3.org/2000/svg\" height=\"24px\"viewBox=\"0 0 24 24\"\n",
              "     width=\"24px\">\n",
              "    <g>\n",
              "        <path d=\"M19 3H5c-1.1 0-2 .9-2 2v14c0 1.1.9 2 2 2h14c1.1 0 2-.9 2-2V5c0-1.1-.9-2-2-2zM9 17H7v-7h2v7zm4 0h-2V7h2v10zm4 0h-2v-4h2v4z\"/>\n",
              "    </g>\n",
              "</svg>\n",
              "      </button>\n",
              "    </div>\n",
              "\n",
              "<style>\n",
              "  .colab-df-quickchart {\n",
              "    background-color: #E8F0FE;\n",
              "    border: none;\n",
              "    border-radius: 50%;\n",
              "    cursor: pointer;\n",
              "    display: none;\n",
              "    fill: #1967D2;\n",
              "    height: 32px;\n",
              "    padding: 0 0 0 0;\n",
              "    width: 32px;\n",
              "  }\n",
              "\n",
              "  .colab-df-quickchart:hover {\n",
              "    background-color: #E2EBFA;\n",
              "    box-shadow: 0px 1px 2px rgba(60, 64, 67, 0.3), 0px 1px 3px 1px rgba(60, 64, 67, 0.15);\n",
              "    fill: #174EA6;\n",
              "  }\n",
              "\n",
              "  [theme=dark] .colab-df-quickchart {\n",
              "    background-color: #3B4455;\n",
              "    fill: #D2E3FC;\n",
              "  }\n",
              "\n",
              "  [theme=dark] .colab-df-quickchart:hover {\n",
              "    background-color: #434B5C;\n",
              "    box-shadow: 0px 1px 3px 1px rgba(0, 0, 0, 0.15);\n",
              "    filter: drop-shadow(0px 1px 2px rgba(0, 0, 0, 0.3));\n",
              "    fill: #FFFFFF;\n",
              "  }\n",
              "</style>\n",
              "\n",
              "    <script>\n",
              "      async function quickchart(key) {\n",
              "        const containerElement = document.querySelector('#' + key);\n",
              "        const charts = await google.colab.kernel.invokeFunction(\n",
              "            'suggestCharts', [key], {});\n",
              "      }\n",
              "    </script>\n",
              "\n",
              "      <script>\n",
              "\n",
              "function displayQuickchartButton(domScope) {\n",
              "  let quickchartButtonEl =\n",
              "    domScope.querySelector('#df-0c94656e-6412-43c1-a223-29f33c2a48f8 button.colab-df-quickchart');\n",
              "  quickchartButtonEl.style.display =\n",
              "    google.colab.kernel.accessAllowed ? 'block' : 'none';\n",
              "}\n",
              "\n",
              "        displayQuickchartButton(document);\n",
              "      </script>\n",
              "      <style>\n",
              "    .colab-df-container {\n",
              "      display:flex;\n",
              "      flex-wrap:wrap;\n",
              "      gap: 12px;\n",
              "    }\n",
              "\n",
              "    .colab-df-convert {\n",
              "      background-color: #E8F0FE;\n",
              "      border: none;\n",
              "      border-radius: 50%;\n",
              "      cursor: pointer;\n",
              "      display: none;\n",
              "      fill: #1967D2;\n",
              "      height: 32px;\n",
              "      padding: 0 0 0 0;\n",
              "      width: 32px;\n",
              "    }\n",
              "\n",
              "    .colab-df-convert:hover {\n",
              "      background-color: #E2EBFA;\n",
              "      box-shadow: 0px 1px 2px rgba(60, 64, 67, 0.3), 0px 1px 3px 1px rgba(60, 64, 67, 0.15);\n",
              "      fill: #174EA6;\n",
              "    }\n",
              "\n",
              "    [theme=dark] .colab-df-convert {\n",
              "      background-color: #3B4455;\n",
              "      fill: #D2E3FC;\n",
              "    }\n",
              "\n",
              "    [theme=dark] .colab-df-convert:hover {\n",
              "      background-color: #434B5C;\n",
              "      box-shadow: 0px 1px 3px 1px rgba(0, 0, 0, 0.15);\n",
              "      filter: drop-shadow(0px 1px 2px rgba(0, 0, 0, 0.3));\n",
              "      fill: #FFFFFF;\n",
              "    }\n",
              "  </style>\n",
              "\n",
              "      <script>\n",
              "        const buttonEl =\n",
              "          document.querySelector('#df-a8e74ac4-9932-4be2-b74b-b8a91f0d88d3 button.colab-df-convert');\n",
              "        buttonEl.style.display =\n",
              "          google.colab.kernel.accessAllowed ? 'block' : 'none';\n",
              "\n",
              "        async function convertToInteractive(key) {\n",
              "          const element = document.querySelector('#df-a8e74ac4-9932-4be2-b74b-b8a91f0d88d3');\n",
              "          const dataTable =\n",
              "            await google.colab.kernel.invokeFunction('convertToInteractive',\n",
              "                                                     [key], {});\n",
              "          if (!dataTable) return;\n",
              "\n",
              "          const docLinkHtml = 'Like what you see? Visit the ' +\n",
              "            '<a target=\"_blank\" href=https://colab.research.google.com/notebooks/data_table.ipynb>data table notebook</a>'\n",
              "            + ' to learn more about interactive tables.';\n",
              "          element.innerHTML = '';\n",
              "          dataTable['output_type'] = 'display_data';\n",
              "          await google.colab.output.renderOutput(dataTable, element);\n",
              "          const docLink = document.createElement('div');\n",
              "          docLink.innerHTML = docLinkHtml;\n",
              "          element.appendChild(docLink);\n",
              "        }\n",
              "      </script>\n",
              "    </div>\n",
              "  </div>\n"
            ]
          },
          "metadata": {},
          "execution_count": 4
        }
      ]
    },
    {
      "cell_type": "code",
      "source": [
        "female = df.loc[df.sex=='female', 'charges']\n",
        "male = df.loc[df.sex =='male', 'charges']"
      ],
      "metadata": {
        "id": "zCZ4QUX20hWO"
      },
      "execution_count": null,
      "outputs": []
    },
    {
      "cell_type": "code",
      "source": [
        "from scipy.stats import ttest_ind"
      ],
      "metadata": {
        "id": "HY2csKmPEy2r"
      },
      "execution_count": null,
      "outputs": []
    },
    {
      "cell_type": "code",
      "source": [
        "alpha = 0.05\n",
        "\n",
        "t_stat, p_val = ttest_ind(female, male, equal_var=False, alternative='two-sided')\n",
        "print ('Test statistic: ', t_stat)\n",
        "print ('p-value (one-sided): ', p_val)"
      ],
      "metadata": {
        "colab": {
          "base_uri": "https://localhost:8080/"
        },
        "id": "MwKJYy-T1APL",
        "outputId": "6f95ffbf-76e1-4f1f-cc86-c38214d58b23"
      },
      "execution_count": null,
      "outputs": [
        {
          "output_type": "stream",
          "name": "stdout",
          "text": [
            "Test statistic:  -2.1008878232359565\n",
            "p-value (one-sided):  0.03584101495601664\n"
          ]
        }
      ]
    },
    {
      "cell_type": "code",
      "source": [
        "\"\"\"\n",
        "Null Hypothesis: H0: μ_male = μ_female\n",
        "Alternative Hypothesis:Ha: μ_male ≠ μ_female\n",
        "\"\"\""
      ],
      "metadata": {
        "colab": {
          "base_uri": "https://localhost:8080/",
          "height": 36
        },
        "id": "CJbOJ0f50EoV",
        "outputId": "688cf5ac-bb25-411c-9b07-b5d5ddb8ecb2"
      },
      "execution_count": null,
      "outputs": [
        {
          "output_type": "execute_result",
          "data": {
            "text/plain": [
              "'\\nNull Hypothesis: H0: μ_male = μ_female\\nAlternative Hypothesis:Ha: μ_male ≠ μ_female\\n'"
            ],
            "application/vnd.google.colaboratory.intrinsic+json": {
              "type": "string"
            }
          },
          "metadata": {},
          "execution_count": 8
        }
      ]
    },
    {
      "cell_type": "code",
      "execution_count": null,
      "metadata": {
        "id": "5_yUeLaWHDbV",
        "colab": {
          "base_uri": "https://localhost:8080/"
        },
        "outputId": "cd9c2139-9424-4c75-be59-b57ddcddf4b5"
      },
      "outputs": [
        {
          "output_type": "stream",
          "name": "stdout",
          "text": [
            "Reject the Null Hypothesis (alpha = 0.05).\n"
          ]
        }
      ],
      "source": [
        "if p_val < alpha:    # greater than, less than, etc.?\n",
        "    print (f'Reject the Null Hypothesis (alpha = {alpha}).')\n",
        "else:\n",
        "    print (f'Fail to Reject the Null Hypothesis (alpha = {alpha}).')"
      ]
    },
    {
      "cell_type": "markdown",
      "metadata": {
        "id": "nHxssXZULEh5"
      },
      "source": [
        "## Problem 2: Test if the insurance charges are higher for those with children.\n",
        "\n",
        "1. Define the Null and Alternative Hypothesis\n",
        "1. Implement the applicable hypothesis test and calculate the p-values\n",
        "1. What is the conclusion at an alpha of 0.05?\n"
      ]
    },
    {
      "cell_type": "code",
      "source": [
        "no_child.describe()"
      ],
      "metadata": {
        "colab": {
          "base_uri": "https://localhost:8080/"
        },
        "id": "plxxsNip4t0v",
        "outputId": "b96436aa-f90a-471a-e3fa-be4da0914a0b"
      },
      "execution_count": null,
      "outputs": [
        {
          "output_type": "execute_result",
          "data": {
            "text/plain": [
              "count      574.000000\n",
              "mean     12365.975602\n",
              "std      12023.293942\n",
              "min       1121.873900\n",
              "25%       2734.421150\n",
              "50%       9856.951900\n",
              "75%      14440.123825\n",
              "max      63770.428010\n",
              "Name: charges, dtype: float64"
            ]
          },
          "metadata": {},
          "execution_count": 13
        }
      ]
    },
    {
      "cell_type": "code",
      "source": [
        "with_child.describe()"
      ],
      "metadata": {
        "colab": {
          "base_uri": "https://localhost:8080/"
        },
        "id": "C63DGkVy4zZd",
        "outputId": "51d353c2-af9b-477a-f201-17a7e81cabda"
      },
      "execution_count": null,
      "outputs": [
        {
          "output_type": "execute_result",
          "data": {
            "text/plain": [
              "count      764.000000\n",
              "mean     13949.941093\n",
              "std      12138.305911\n",
              "min       1711.026800\n",
              "25%       5809.641625\n",
              "50%       9223.829500\n",
              "75%      18232.392400\n",
              "max      60021.398970\n",
              "Name: charges, dtype: float64"
            ]
          },
          "metadata": {},
          "execution_count": 14
        }
      ]
    },
    {
      "cell_type": "code",
      "execution_count": null,
      "metadata": {
        "id": "I4Bh31h3LjxD",
        "colab": {
          "base_uri": "https://localhost:8080/"
        },
        "outputId": "5cb74fc2-8de6-4eb1-fcbc-19a2f6da1115"
      },
      "outputs": [
        {
          "output_type": "stream",
          "name": "stdout",
          "text": [
            "Test statistic:  -2.3720611301669337\n",
            "p-value:  0.9910849126582172\n",
            "Fail to Reject the Null Hypothesis (alpha = 0.05).\n"
          ]
        }
      ],
      "source": [
        "\"\"\"\n",
        "Null Hypothesis:  There is no significant difference in insurance charges between individuals with children and individuals without children.\n",
        "Alternative Hypothesis: There is a significant difference in insurance charges between individuals with children and individuals without children.\n",
        "\"\"\"\n",
        "\n",
        "no_child = df.loc[df.children ==0, 'charges']\n",
        "with_child = df.loc[df.children >0, 'charges']\n",
        "\n",
        "alpha = 0.05\n",
        "\n",
        "t_stat, p_val = ttest_ind(no_child, with_child, alternative= 'greater')    # get t-stat and p-value\n",
        "print ('Test statistic: ', t_stat)\n",
        "print ('p-value: ', p_val)\n",
        "\n",
        "if p_val < alpha:\n",
        "    print (f'Reject the Null Hypothesis (alpha = {alpha}).')\n",
        "else:\n",
        "    print (f'Fail to Reject the Null Hypothesis (alpha = {alpha}).')"
      ]
    },
    {
      "cell_type": "markdown",
      "metadata": {
        "id": "jX2HzXg_IP5h"
      },
      "source": [
        "## Problem 3: Test if the proportion of smokers is more than 20%\n",
        "\n",
        "1. Define the Null and Alternative Hypothesis\n",
        "1. Implement the applicable hypothesis test and calculate the p-values\n",
        "1. What is the conclusion at an alpha of 0.05?"
      ]
    },
    {
      "cell_type": "code",
      "source": [
        "df.smoker.value_counts()"
      ],
      "metadata": {
        "colab": {
          "base_uri": "https://localhost:8080/"
        },
        "id": "cOfFrreM5la6",
        "outputId": "23383b56-fe1c-4854-9b03-701794c8bc33"
      },
      "execution_count": null,
      "outputs": [
        {
          "output_type": "execute_result",
          "data": {
            "text/plain": [
              "no     1064\n",
              "yes     274\n",
              "Name: smoker, dtype: int64"
            ]
          },
          "metadata": {},
          "execution_count": 15
        }
      ]
    },
    {
      "cell_type": "code",
      "source": [
        "smokers = df[df.smoker =='yes']\n",
        "non_smokers = df[df.smoker == 'no']"
      ],
      "metadata": {
        "id": "FsSK3oTu5_Q_"
      },
      "execution_count": null,
      "outputs": []
    },
    {
      "cell_type": "code",
      "execution_count": null,
      "metadata": {
        "id": "mSGuRA3iJLLN",
        "colab": {
          "base_uri": "https://localhost:8080/"
        },
        "outputId": "9833da0a-06fd-46eb-c915-4f33d76027a8"
      },
      "outputs": [
        {
          "output_type": "stream",
          "name": "stdout",
          "text": [
            "p-value: 0.33229937909683\n",
            "Fail to Reject the Null Hypothesis (alpha = 0.05).\n"
          ]
        }
      ],
      "source": [
        "\"\"\"\"\n",
        "Null Hypothesis: The proportion of smokers is equal to or less than 20%.\n",
        "Alternative Hypothesis: The proportion of smokers is greater than 20%.\n",
        "\"\"\"\n",
        "\n",
        "\n",
        "\n",
        "alpha = .05\n",
        "\n",
        "# compute for the p-value\n",
        "z_stat, p_val = proportions_ztest(count=len(smokers),\n",
        "                                  nobs=len(smokers)+len(non_smokers),\n",
        "                                  value=0.2,\n",
        "                                  alternative='larger')\n",
        "print('p-value:', p_val)\n",
        "\n",
        "if p_val < alpha:\n",
        "    print (f'Reject the Null Hypothesis (alpha = {alpha}).')\n",
        "else:\n",
        "    print (f'Fail to Reject the Null Hypothesis (alpha = {alpha}).')"
      ]
    },
    {
      "cell_type": "markdown",
      "metadata": {
        "id": "ENOrmUwDLw_8"
      },
      "source": [
        "## Problem 4: Test if the proportion of smokers from each region follows the table below:\n",
        "\n",
        "|           | Non-Smoker | Smoker |\n",
        "|-----------|------------|-----------|\n",
        "| northeast     | 20%        | 5%        |\n",
        "| northwest | 20%        | 5%       |\n",
        "| southeast | 20%        | 5%       |\n",
        "| southwest | 20%        | 5%       |\n",
        "\n",
        "1. Define the Null and Alternative Hypothesis\n",
        "1. Implement the applicable hypothesis test and calculate the p-values\n",
        "1. What is the conclusion at an alpha of 0.05?"
      ]
    },
    {
      "cell_type": "code",
      "source": [
        "obs = df.groupby(['region', 'smoker']).charges.count()    # smokers per region\n",
        "n_obs = len(df)    # number of observations\n",
        "\n",
        "obs"
      ],
      "metadata": {
        "colab": {
          "base_uri": "https://localhost:8080/"
        },
        "id": "jOmE07Fi7ZHp",
        "outputId": "994a7410-fa45-4ae2-8e7b-1a2d6307fda9"
      },
      "execution_count": null,
      "outputs": [
        {
          "output_type": "execute_result",
          "data": {
            "text/plain": [
              "region     smoker\n",
              "northeast  no        257\n",
              "           yes        67\n",
              "northwest  no        267\n",
              "           yes        58\n",
              "southeast  no        273\n",
              "           yes        91\n",
              "southwest  no        267\n",
              "           yes        58\n",
              "Name: charges, dtype: int64"
            ]
          },
          "metadata": {},
          "execution_count": 18
        }
      ]
    },
    {
      "cell_type": "code",
      "source": [
        "n_obs"
      ],
      "metadata": {
        "colab": {
          "base_uri": "https://localhost:8080/"
        },
        "id": "oeDuRNDT72cw",
        "outputId": "ad9105ee-990f-4ba7-bd8d-c21de8483caf"
      },
      "execution_count": null,
      "outputs": [
        {
          "output_type": "execute_result",
          "data": {
            "text/plain": [
              "1338"
            ]
          },
          "metadata": {},
          "execution_count": 19
        }
      ]
    },
    {
      "cell_type": "code",
      "source": [
        "print('Total surveyed:', n_obs)"
      ],
      "metadata": {
        "colab": {
          "base_uri": "https://localhost:8080/"
        },
        "id": "9wIvMPN47_Qf",
        "outputId": "fd166ebf-418c-4da2-bc2e-c1cf9e801c8e"
      },
      "execution_count": null,
      "outputs": [
        {
          "output_type": "stream",
          "name": "stdout",
          "text": [
            "Total surveyed: 1338\n"
          ]
        }
      ]
    },
    {
      "cell_type": "code",
      "execution_count": null,
      "metadata": {
        "id": "tNvblKdqMCDW",
        "colab": {
          "base_uri": "https://localhost:8080/"
        },
        "outputId": "f5299055-b6d1-4ed0-d506-6e1f8420d0ee"
      },
      "outputs": [
        {
          "output_type": "stream",
          "name": "stdout",
          "text": [
            "p-value: 0.11519018608755745\n",
            "Fail to Reject the Null Hypothesis (alpha = 0.05).\n"
          ]
        }
      ],
      "source": [
        "\"\"\"\n",
        "Null Hypothesis: The proportion of smokers in the region is equal to the specified value in the table.\n",
        "Alternative Hypothesis: The proportion of smokers in the region is not equal to the specified value in the table.\n",
        "\"\"\"\n",
        "\n",
        "\n",
        "f_obs = obs.values\n",
        "f_exp = []    # expected frequencies\n",
        "for exp in [0.2, 0.05, 0.2, 0.05, 0.2, 0.05, 0.2, 0.05]:\n",
        "  f_exp.append(exp*n_obs)\n",
        "\n",
        "alpha = .05\n",
        "\n",
        "chi_sq, p_val = chisquare(f_obs=f_obs, f_exp=f_exp)\n",
        "print('p-value:', p_val)\n",
        "\n",
        "if p_val < alpha:\n",
        "    print (f'Reject the Null Hypothesis (alpha = {alpha}).')\n",
        "else:\n",
        "    print (f'Fail to Reject the Null Hypothesis (alpha = {alpha}).')"
      ]
    }
  ],
  "metadata": {
    "colab": {
      "provenance": []
    },
    "kernelspec": {
      "display_name": "Python 3 (ipykernel)",
      "language": "python",
      "name": "python3"
    },
    "language_info": {
      "codemirror_mode": {
        "name": "ipython",
        "version": 3
      },
      "file_extension": ".py",
      "mimetype": "text/x-python",
      "name": "python",
      "nbconvert_exporter": "python",
      "pygments_lexer": "ipython3",
      "version": "3.8.10"
    }
  },
  "nbformat": 4,
  "nbformat_minor": 0
}